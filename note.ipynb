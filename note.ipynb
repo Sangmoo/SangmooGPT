{
 "cells": [
  {
   "cell_type": "code",
   "execution_count": 1,
   "metadata": {},
   "outputs": [
    {
     "data": {
      "text/plain": [
       "\"The distance between Korea and Japan varies depending on the specific locations being considered. The shortest distance between the two countries is approximately 200 kilometers (124 miles) across the Korea Strait, which separates the southwestern tip of Japan's Kyushu Island from the southeastern tip of South Korea's Busan. However, the distance can be much greater when considering other parts of the countries. For example, the distance between Seoul, the capital of South Korea, and Tokyo, the capital of Japan, is approximately 1,200 kilometers (746 miles) by air.\""
      ]
     },
     "execution_count": 1,
     "metadata": {},
     "output_type": "execute_result"
    }
   ],
   "source": [
    "from langchain.chat_models import ChatOpenAI, ChatAnthropic\n",
    "from langchain.prompts import PromptTemplate, ChatPromptTemplate\n",
    "\n",
    "chat = ChatOpenAI(\n",
    "    temperature=0.1 # 낮을수록 창의력이 낮은 결과\n",
    ")\n",
    "\n",
    "template = PromptTemplate.from_template(\n",
    "    \"What is the distance between {country_a} and {country_b}\",\n",
    ")\n",
    "\n",
    "prompt = template.format(country_a=\"Korea\", country_b=\"Japan\")\n",
    "\n",
    "chat.predict(prompt)"
   ]
  },
  {
   "cell_type": "code",
   "execution_count": 6,
   "metadata": {},
   "outputs": [
    {
     "ename": "AttributeError",
     "evalue": "'function' object has no attribute 'format_messages'",
     "output_type": "error",
     "traceback": [
      "\u001b[1;31m---------------------------------------------------------------------------\u001b[0m",
      "\u001b[1;31mAttributeError\u001b[0m                            Traceback (most recent call last)",
      "Cell \u001b[1;32mIn[6], line 8\u001b[0m\n\u001b[0;32m      1\u001b[0m template \u001b[38;5;241m=\u001b[39m ChatPromptTemplate\u001b[38;5;241m.\u001b[39mfrom_messages\n\u001b[0;32m      2\u001b[0m ([\n\u001b[0;32m      3\u001b[0m     (\u001b[38;5;124m\"\u001b[39m\u001b[38;5;124msystem\u001b[39m\u001b[38;5;124m\"\u001b[39m, \u001b[38;5;124m\"\u001b[39m\u001b[38;5;124mYou are a Seller Expert. And you only reply in \u001b[39m\u001b[38;5;132;01m{language}\u001b[39;00m\u001b[38;5;124m.\u001b[39m\u001b[38;5;124m\"\u001b[39m),\n\u001b[0;32m      4\u001b[0m     (\u001b[38;5;124m\"\u001b[39m\u001b[38;5;124mai\u001b[39m\u001b[38;5;124m\"\u001b[39m, \u001b[38;5;124m\"\u001b[39m\u001b[38;5;124m안녕, 반가워 \u001b[39m\u001b[38;5;132;01m{name}\u001b[39;00m\u001b[38;5;124m!\u001b[39m\u001b[38;5;124m\"\u001b[39m),\n\u001b[0;32m      5\u001b[0m     (\u001b[38;5;124m\"\u001b[39m\u001b[38;5;124mhuman\u001b[39m\u001b[38;5;124m\"\u001b[39m, \u001b[38;5;124m\"\u001b[39m\u001b[38;5;124mWhat is the favorite food in \u001b[39m\u001b[38;5;132;01m{country}\u001b[39;00m\u001b[38;5;124m?. Also, What\u001b[39m\u001b[38;5;124m'\u001b[39m\u001b[38;5;124ms your name?\u001b[39m\u001b[38;5;124m\"\u001b[39m),\n\u001b[0;32m      6\u001b[0m ])\n\u001b[1;32m----> 8\u001b[0m prompt \u001b[38;5;241m=\u001b[39m \u001b[43mtemplate\u001b[49m\u001b[38;5;241;43m.\u001b[39;49m\u001b[43mformat_messages\u001b[49m(language \u001b[38;5;241m=\u001b[39m \u001b[38;5;124m\"\u001b[39m\u001b[38;5;124mJapanese\u001b[39m\u001b[38;5;124m\"\u001b[39m, name \u001b[38;5;241m=\u001b[39m \u001b[38;5;124m\"\u001b[39m\u001b[38;5;124mSangmoo\u001b[39m\u001b[38;5;124m\"\u001b[39m, country \u001b[38;5;241m=\u001b[39m \u001b[38;5;124m\"\u001b[39m\u001b[38;5;124mKorea\u001b[39m\u001b[38;5;124m\"\u001b[39m)\n\u001b[0;32m     10\u001b[0m chat\u001b[38;5;241m.\u001b[39mpredict_messages(prompt)\n",
      "\u001b[1;31mAttributeError\u001b[0m: 'function' object has no attribute 'format_messages'"
     ]
    }
   ],
   "source": [
    "template = ChatPromptTemplate.from_messages\n",
    "([\n",
    "    (\"system\", \"You are a Seller Expert. And you only reply in {language}.\"),\n",
    "    (\"ai\", \"안녕, 반가워 {name}!\"),\n",
    "    (\"human\", \"What is the favorite food in {country}?. Also, What's your name?\"),\n",
    "])\n",
    "\n",
    "prompt = template.format_messages(language = \"Japanese\", name = \"Sangmoo\", country = \"Korea\")\n",
    "\n",
    "chat.predict_messages(prompt)"
   ]
  },
  {
   "cell_type": "code",
   "execution_count": 11,
   "metadata": {},
   "outputs": [
    {
     "data": {
      "text/plain": [
       "['Hello', 'how', 'are', 'you ?']"
      ]
     },
     "execution_count": 11,
     "metadata": {},
     "output_type": "execute_result"
    }
   ],
   "source": [
    "from langchain.schema import BaseOutputParser\n",
    "\n",
    "class CommaOutputParser(BaseOutputParser):\n",
    "\n",
    "    def parse(self, text):\n",
    "        # 쉼표 단위로 list 생성\n",
    "        items = text.strip().split(\",\") \n",
    "        return list(map(str.strip, items))\n",
    "\n",
    "p = CommaOutputParser()\n",
    "\n",
    "p.parse(\"Hello, how, are, you ?\")"
   ]
  },
  {
   "cell_type": "code",
   "execution_count": 13,
   "metadata": {},
   "outputs": [
    {
     "data": {
      "text/plain": [
       "['agumon', 'gabumon', 'patamon', 'gatomon', 'veemon']"
      ]
     },
     "execution_count": 13,
     "metadata": {},
     "output_type": "execute_result"
    }
   ],
   "source": [
    "template = ChatPromptTemplate.from_messages([\n",
    "    (\"system\", \"You are a list generating machine. Everything you are asked will be answered with a list of max {max_items} in lowercase. Do NOT reply with anything else.\"),\n",
    "    (\"human\", \"{question}\"),\n",
    "])\n",
    "\n",
    "### predict prompt with CommaOutputParser\n",
    "# prompt = template.format_messages(max_items = 10, question = \"What are the colors?\")\n",
    "# result = chat.predict_messages(prompt)\n",
    "# p = CommaOutputParser()\n",
    "# p.parse(result.content)\n",
    "\n",
    "### Create chain\n",
    "# use \"|\" operater \n",
    "chain_one = template | chat | CommaOutputParser()\n",
    "\n",
    "### chain | chain\n",
    "# chain_tow = template_2 | chat | outputParser\n",
    "# all = chain_one | chain_tow | output\n",
    "\n",
    "chain.invoke({\n",
    "    \"max_items\" : 5,\n",
    "    \"question\" : \"What are the digimons?\"\n",
    "})"
   ]
  }
 ],
 "metadata": {
  "kernelspec": {
   "display_name": "env",
   "language": "python",
   "name": "python3"
  },
  "language_info": {
   "codemirror_mode": {
    "name": "ipython",
    "version": 3
   },
   "file_extension": ".py",
   "mimetype": "text/x-python",
   "name": "python",
   "nbconvert_exporter": "python",
   "pygments_lexer": "ipython3",
   "version": "3.10.0"
  }
 },
 "nbformat": 4,
 "nbformat_minor": 2
}
