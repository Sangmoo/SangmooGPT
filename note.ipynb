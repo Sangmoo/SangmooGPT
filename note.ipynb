{
 "cells": [
  {
   "cell_type": "code",
   "execution_count": 6,
   "metadata": {},
   "outputs": [
    {
     "name": "stdout",
     "output_type": "stream",
     "text": [
      "AI: I know this:\n",
      "Capital: Tokyo\n",
      "Language: Japanese\n",
      "Food: Sushi and Ramen\n",
      "Currency: Yen"
     ]
    },
    {
     "data": {
      "text/plain": [
       "AIMessageChunk(content='AI: I know this:\\nCapital: Tokyo\\nLanguage: Japanese\\nFood: Sushi and Ramen\\nCurrency: Yen')"
      ]
     },
     "execution_count": 6,
     "metadata": {},
     "output_type": "execute_result"
    }
   ],
   "source": [
    "from langchain.chat_models import ChatOpenAI\n",
    "from langchain.prompts import ChatPromptTemplate\n",
    "from langchain.prompts.few_shot import FewShotPromptTemplate\n",
    "from langchain.prompts.prompt import PromptTemplate\n",
    "from langchain.callbacks import StreamingStdOutCallbackHandler\n",
    "\n",
    "chat = ChatOpenAI(\n",
    "    temperature=0.1, # 낮을수록 창의력이 낮은 결과, 신뢰성 증가\n",
    "    streaming = True, # 결과가 다 나오지 않더라도 결과물 실시간 출력\n",
    "    callbacks = [\n",
    "        StreamingStdOutCallbackHandler(),\n",
    "    ]\n",
    ")\n",
    "\n",
    "### FewShotPromptTemplate - 모델을 형식화 처리, 데이터베이스에서 가져와서 형식화 할 수 있음\n",
    "# t = PromptTemplate.from_template(\"What is the capital of {country}\")\n",
    "# t.format(country = \"Korea\")\n",
    "\n",
    "examples = [\n",
    "{\n",
    "\"question\": \"What do you know about France?\",\n",
    "\"answer\": \"\"\"\n",
    "Here is what I know:\n",
    "Capital: Paris\n",
    "Language: French\n",
    "Food: Wine and Cheese\n",
    "Currency: Euro\n",
    "\"\"\",\n",
    "},\n",
    "{\n",
    "\"question\": \"What do you know about Italy?\",\n",
    "\"answer\": \"\"\"\n",
    "I know this:\n",
    "Capital: Rome\n",
    "Language: Italian\n",
    "Food: Pizza and Pasta\n",
    "Currency: Euro\n",
    "\"\"\",\n",
    "},\n",
    "{\n",
    "\"question\": \"What do you know about Korea?\",\n",
    "\"answer\": \"\"\"\n",
    "I know this:\n",
    "Capital: Seoul\n",
    "Language: Korean\n",
    "Food: Kimchi and fork\n",
    "Currency: won\n",
    "\"\"\",\n",
    "},\n",
    "]\n",
    "\n",
    "# example_template = \"\"\"\n",
    "#     Human : {question}\n",
    "#     AI : {answer}\n",
    "# \"\"\"\n",
    "# example_prompt = PromptTemplate.from_template(example_template)\n",
    "\n",
    "example_prompt = PromptTemplate.from_template(\"Human: {question}\\nAI : {answer}\")\n",
    "\n",
    "prompt = FewShotPromptTemplate(\n",
    "    example_prompt=example_prompt,\n",
    "    examples=examples,\n",
    "    suffix=\"Human : What do you know about {country}?\",  # 형식화 된 모든 예제 마지막에 나오는 내용\n",
    "    input_variables=[\"country\"],\n",
    ")\n",
    "\n",
    "# prompt.format(country=\"Korea\")\n",
    "chain = prompt | chat\n",
    "\n",
    "chain.invoke({\n",
    "    \"country\" : \"Japan\"\n",
    "})"
   ]
  }
 ],
 "metadata": {
  "kernelspec": {
   "display_name": "env",
   "language": "python",
   "name": "python3"
  },
  "language_info": {
   "codemirror_mode": {
    "name": "ipython",
    "version": 3
   },
   "file_extension": ".py",
   "mimetype": "text/x-python",
   "name": "python",
   "nbconvert_exporter": "python",
   "pygments_lexer": "ipython3",
   "version": "3.10.0"
  }
 },
 "nbformat": 4,
 "nbformat_minor": 2
}
