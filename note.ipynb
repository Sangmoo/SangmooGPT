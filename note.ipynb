{
 "cells": [
  {
   "cell_type": "code",
   "execution_count": 3,
   "metadata": {},
   "outputs": [],
   "source": [
    "from langchain.chat_models import ChatOpenAI\n",
    "from langchain.prompts import ChatPromptTemplate\n",
    "from langchain.callbacks import StreamingStdOutCallbackHandler\n",
    "\n",
    "chat = ChatOpenAI(\n",
    "    temperature=0.1, # 낮을수록 창의력이 낮은 결과, 신뢰성 증가\n",
    "    streaming = True, # 결과가 다 나오지 않더라도 결과물 실시간 출력\n",
    "    callbacks = [\n",
    "        StreamingStdOutCallbackHandler(),\n",
    "    ]\n",
    ")\n",
    "\n",
    "chef_prompt = ChatPromptTemplate.from_messages([\n",
    "    (\"system\", \"You are a expert chef. You create easy to follow recipies for any food.\"),\n",
    "    (\"human\", \"I want to cook {cuisine} food.\"),\n",
    "])\n",
    "\n",
    "chef_chain = chef_prompt | chat"
   ]
  },
  {
   "cell_type": "code",
   "execution_count": 4,
   "metadata": {},
   "outputs": [
    {
     "name": "stdout",
     "output_type": "stream",
     "text": [
      "Great choice! Korean cuisine is known for its bold flavors and unique combinations. One popular and easy-to-make Korean dish is Bibimbap. Here's a simple recipe for you:\n",
      "\n",
      "Ingredients:\n",
      "- 2 cups cooked rice\n",
      "- 1 cup assorted vegetables (carrots, spinach, mushrooms, bean sprouts, zucchini, etc.)\n",
      "- 1 cup protein (beef, chicken, tofu, or shrimp)\n",
      "- 2 tablespoons vegetable oil\n",
      "- 2 tablespoons soy sauce\n",
      "- 1 tablespoon sesame oil\n",
      "- 1 tablespoon gochujang (Korean chili paste)\n",
      "- 2 cloves garlic, minced\n",
      "- 2 fried eggs (optional)\n",
      "- Sesame seeds for garnish\n",
      "- Salt and pepper to taste\n",
      "\n",
      "Instructions:\n",
      "1. Prepare the rice according to the package instructions or use leftover cooked rice.\n",
      "2. Cut the assorted vegetables into thin strips or bite-sized pieces.\n",
      "3. Season the protein of your choice with salt, pepper, and minced garlic.\n",
      "4. Heat 1 tablespoon of vegetable oil in a large skillet or wok over medium-high heat. Cook the protein until fully cooked and set aside.\n",
      "5. In the same skillet, add another tablespoon of vegetable oil and stir-fry the vegetables until tender-crisp. Season with salt and pepper to taste.\n",
      "6. In a small bowl, mix together soy sauce, sesame oil, and gochujang to make the sauce.\n",
      "7. Divide the cooked rice into individual serving bowls. Arrange the cooked vegetables and protein on top of the rice.\n",
      "8. Drizzle the sauce over the ingredients in each bowl.\n",
      "9. If desired, fry two eggs sunny-side-up and place one on top of each bowl.\n",
      "10. Garnish with sesame seeds and serve hot.\n",
      "\n",
      "Bibimbap is traditionally served with a side of kimchi and can be enjoyed by mixing all the ingredients together before eating. Feel free to customize this recipe by adding or substituting ingredients based on your preferences. Enjoy your homemade Korean Bibimbap!Great choice! Bibimbap is a delicious Korean dish that can easily be made vegetarian. Here's how you can make a vegetarian version of Bibimbap:\n",
      "\n",
      "Ingredients:\n",
      "- 2 cups cooked rice\n",
      "- 1 cup assorted vegetables (carrots, spinach, mushrooms, bean sprouts, zucchini, etc.)\n",
      "- 1 cup tofu or tempeh, cubed\n",
      "- 2 tablespoons vegetable oil\n",
      "- 2 tablespoons soy sauce\n",
      "- 1 tablespoon sesame oil\n",
      "- 1 tablespoon gochujang (Korean chili paste)\n",
      "- 2 cloves garlic, minced\n",
      "- 2 fried eggs (optional)\n",
      "- Sesame seeds for garnish\n",
      "- Salt and pepper to taste\n",
      "\n",
      "Instructions:\n",
      "1. Prepare the rice according to the package instructions or use leftover cooked rice.\n",
      "2. Cut the assorted vegetables into thin strips or bite-sized pieces.\n",
      "3. If using tofu, drain and press it to remove excess moisture. Cut it into cubes or thin slices. If using tempeh, crumble it into small pieces.\n",
      "4. Heat 1 tablespoon of vegetable oil in a large skillet or wok over medium-high heat. Cook the tofu or tempeh until lightly browned and set aside.\n",
      "5. In the same skillet, add another tablespoon of vegetable oil and stir-fry the vegetables until tender-crisp. Season with salt and pepper to taste.\n",
      "6. In a small bowl, mix together soy sauce, sesame oil, and gochujang to make the sauce.\n",
      "7. Divide the cooked rice into individual serving bowls. Arrange the cooked vegetables and tofu or tempeh on top of the rice.\n",
      "8. Drizzle the sauce over the ingredients in each bowl.\n",
      "9. If desired, fry two eggs sunny-side-up and place one on top of each bowl.\n",
      "10. Garnish with sesame seeds and serve hot.\n",
      "\n",
      "You can also serve your vegetarian Bibimbap with a side of kimchi for an authentic Korean experience. Enjoy your homemade Korean Bibimbap!Kimchi is a traditional Korean side dish made from fermented vegetables, typically cabbage and radishes, along with a variety of seasonings. As a vegetarian chef, there are a few alternatives you can consider to make a vegetarian version of kimchi:\n",
      "\n",
      "1. Vegetarian Fish Sauce Substitute: Traditional kimchi often includes fish sauce for its umami flavor. To replace it, you can use a vegetarian fish sauce substitute made from seaweed or mushrooms. These substitutes can be found in some specialty stores or made at home by simmering seaweed or mushrooms in water and reducing it to a concentrated liquid.\n",
      "\n",
      "2. Soy Sauce or Tamari: Instead of fish sauce, you can use soy sauce or tamari to add a savory flavor to your vegetarian kimchi. These options are readily available in most grocery stores and provide a similar depth of flavor.\n",
      "\n",
      "3. Miso Paste: Another alternative to fish sauce is miso paste. Miso is a fermented soybean paste that adds a rich and savory taste to dishes. You can mix a small amount of miso paste with water to create a flavorful liquid to replace fish sauce in your kimchi.\n",
      "\n",
      "4. Vegetarian Kimchi Paste: If you prefer a shortcut, you can look for vegetarian kimchi paste in stores or online. These pastes are specifically made without fish sauce and can be used as a convenient alternative to traditional kimchi seasonings.\n",
      "\n",
      "It's important to note that while these alternatives can help you achieve a vegetarian version of kimchi, the taste and flavor profile may differ slightly from the traditional recipe. However, they will still provide a delicious and satisfying result."
     ]
    },
    {
     "data": {
      "text/plain": [
       "AIMessageChunk(content=\"Kimchi is a traditional Korean side dish made from fermented vegetables, typically cabbage and radishes, along with a variety of seasonings. As a vegetarian chef, there are a few alternatives you can consider to make a vegetarian version of kimchi:\\n\\n1. Vegetarian Fish Sauce Substitute: Traditional kimchi often includes fish sauce for its umami flavor. To replace it, you can use a vegetarian fish sauce substitute made from seaweed or mushrooms. These substitutes can be found in some specialty stores or made at home by simmering seaweed or mushrooms in water and reducing it to a concentrated liquid.\\n\\n2. Soy Sauce or Tamari: Instead of fish sauce, you can use soy sauce or tamari to add a savory flavor to your vegetarian kimchi. These options are readily available in most grocery stores and provide a similar depth of flavor.\\n\\n3. Miso Paste: Another alternative to fish sauce is miso paste. Miso is a fermented soybean paste that adds a rich and savory taste to dishes. You can mix a small amount of miso paste with water to create a flavorful liquid to replace fish sauce in your kimchi.\\n\\n4. Vegetarian Kimchi Paste: If you prefer a shortcut, you can look for vegetarian kimchi paste in stores or online. These pastes are specifically made without fish sauce and can be used as a convenient alternative to traditional kimchi seasonings.\\n\\nIt's important to note that while these alternatives can help you achieve a vegetarian version of kimchi, the taste and flavor profile may differ slightly from the traditional recipe. However, they will still provide a delicious and satisfying result.\")"
      ]
     },
     "execution_count": 4,
     "metadata": {},
     "output_type": "execute_result"
    }
   ],
   "source": [
    "veg_chef_prompt = ChatPromptTemplate.from_messages([\n",
    "    (\n",
    "        \"system\", \n",
    "        \"You are a vegetarian chef specialized on making traditional recipies vegetarian. You find alternative ingredients and explain their preparation. You don't radically modify the recipe. If there is no alternative for a food just say you don't know how to replace it\"\n",
    "    ),\n",
    "    (\"human\", \"{recipe}\")\n",
    "])\n",
    "\n",
    "veg_chain = veg_chef_prompt | chat\n",
    "\n",
    "final_chain = {\"recipe\" : chef_chain} | veg_chain\n",
    "\n",
    "final_chain.invoke({\n",
    "    \"cuisine\" : \"korean\"\n",
    "})\n",
    "\n",
    "veg_chain.invoke({\n",
    "    \"recipe\" : \"kimchi\"\n",
    "})"
   ]
  }
 ],
 "metadata": {
  "kernelspec": {
   "display_name": "env",
   "language": "python",
   "name": "python3"
  },
  "language_info": {
   "codemirror_mode": {
    "name": "ipython",
    "version": 3
   },
   "file_extension": ".py",
   "mimetype": "text/x-python",
   "name": "python",
   "nbconvert_exporter": "python",
   "pygments_lexer": "ipython3",
   "version": "3.10.0"
  }
 },
 "nbformat": 4,
 "nbformat_minor": 2
}
